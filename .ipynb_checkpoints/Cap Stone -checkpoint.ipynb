{
 "cells": [
  {
   "cell_type": "markdown",
   "metadata": {},
   "source": [
    "Some links for searching for Capstone datasets and ideas. Do add on to the list!\n",
    "Medium blog post on datasets\n",
    "https://towardsdatascience.com/top-sources-for-machine-learning-datasets-bb6d0dc3378b\n",
    "Google Dataset Search\n",
    "https://toolbox.google.com/datasetsearch\n",
    "Kaggle Competition and Datasets\n",
    "https://www.kaggle.com/competitions\n",
    "https://www.kaggle.com/datasets\n",
    "datadriven\n",
    "https://www.drivendata.org/competitions/\n",
    "Awesome Public Datasets and Project Ideas\n",
    "https://github.com/awesomedata/awesome-public-datasets\n",
    "https://github.com/NirantK/awesome-project-ideas#text\n",
    "UCI Machine Learning Repository\n",
    "https://archive.ics.uci.edu/ml/index.php\n",
    "Data from fivethirtyeight\n",
    "https://data.fivethirtyeight.com/\n",
    "datasetlist\n",
    "https://www.datasetlist.com/\n",
    "lionbridge\n",
    "https://lionbridge.ai/datasets/the-50-best-free-datasets-for-machine-learning/\n",
    "yelp dataset\n",
    "https://www.yelp.com/dataset\n",
    "image\n",
    "https://hackernoon.com/rare-datasets-for-computer-vision-every-machine-learning-expert-must-work-with-2ddaf52ad862\n",
    "natural language processing\n",
    "https://github.com/niderhoff/nlp-datasets\n",
    "https://www.kdnuggets.com/2020/02/big-bad-nlp-database.html\n",
    "recommender systems\n",
    "https://github.com/chihming/competitive-recsys\n",
    "http://cseweb.ucsd.edu/~jmcauley/datasets.html\n",
    "data from LTA\n",
    "https://www.mytransport.sg/content/mytransport/home/dataMall/static-data.html\n",
    "https://www.mytransport.sg/content/mytransport/home/dataMall/dynamic-data.html\n",
    ":thankyou:\n",
    "1\n",
    "\n"
   ]
  },
  {
   "cell_type": "markdown",
   "metadata": {},
   "source": [
    "# Problem statement \n",
    "\n",
    "No business can survived without customer\n",
    "\n",
    "\n",
    "Twitter1\n",
    "is a micro-blogging site that allows\n",
    "users to write textual entries (‘tweets’) of up to\n",
    "140 characters."
   ]
  },
  {
   "cell_type": "code",
   "execution_count": 1,
   "metadata": {},
   "outputs": [],
   "source": [
    "import re\n",
    "import pandas as pd\n",
    "import numpy as np\n",
    "import string\n",
    "pd.set_option('display.max_columns', None)\n",
    "pd.set_option('display.width', None)\n",
    "\n",
    "from termcolor import colored\n",
    "\n"
   ]
  },
  {
   "cell_type": "markdown",
   "metadata": {},
   "source": [
    "# Import the datasets"
   ]
  },
  {
   "cell_type": "code",
   "execution_count": 2,
   "metadata": {},
   "outputs": [],
   "source": [
    "df_all_twitter = pd.read_csv('./datasets/twcs.csv')"
   ]
  },
  {
   "cell_type": "code",
   "execution_count": 3,
   "metadata": {},
   "outputs": [],
   "source": [
    "# Define function for basic eda\n",
    "# df.info can indicate null values, if any, so shall we keep null value function ?\n",
    "\n",
    "def data_explore(df):\n",
    "    #First two rows\n",
    "    print(\"First two rows of data:\")\n",
    "    display(df.head())\n",
    "    print()\n",
    "    # Print shape of dataframe\n",
    "    print(colored(f\"Shape: {df.shape}\",'blue',attrs=['bold']))\n",
    "    print()\n",
    "    # Print datatypes\n",
    "    print(colored(\"Columns & Datatypes: \",'blue',attrs=['bold']))\n",
    "    df.info()\n",
    "    print()\n",
    "    # Check for null values\n",
    "    print(colored(\"Null values:\",'blue',attrs=['bold']))\n",
    "    if df.isnull().values.any() == False:\n",
    "        print(\"None in Dataframe.\")\n",
    "    else:\n",
    "        for col in df:\n",
    "            print(f\"{col}:{df[col].isnull().sum()}\")\n",
    "    print()\n",
    "    # Count of distinct values\n",
    "    print(colored(\"Unique values (by Columns)\",'blue',attrs=['bold']))\n",
    "    for col in df:\n",
    "        print(f\"{col}:{len(df[col].unique().tolist())}\")\n",
    "    print()\n",
    "    # Inform if there are duplicates, if any\n",
    "    if df.duplicated(subset=None, keep='first').any() == False:\n",
    "        print(\"No duplicates present.\")\n",
    "    else:\n",
    "        dup = df[df.duplicated(subset=None, keep='first')]\n",
    "        print(f\"{len(dup)} duplicates in {len(df)} rows.\")"
   ]
  },
  {
   "cell_type": "code",
   "execution_count": 4,
   "metadata": {},
   "outputs": [
    {
     "name": "stdout",
     "output_type": "stream",
     "text": [
      "First two rows of data:\n"
     ]
    },
    {
     "data": {
      "text/html": [
       "<div>\n",
       "<style scoped>\n",
       "    .dataframe tbody tr th:only-of-type {\n",
       "        vertical-align: middle;\n",
       "    }\n",
       "\n",
       "    .dataframe tbody tr th {\n",
       "        vertical-align: top;\n",
       "    }\n",
       "\n",
       "    .dataframe thead th {\n",
       "        text-align: right;\n",
       "    }\n",
       "</style>\n",
       "<table border=\"1\" class=\"dataframe\">\n",
       "  <thead>\n",
       "    <tr style=\"text-align: right;\">\n",
       "      <th></th>\n",
       "      <th>tweet_id</th>\n",
       "      <th>author_id</th>\n",
       "      <th>inbound</th>\n",
       "      <th>created_at</th>\n",
       "      <th>text</th>\n",
       "      <th>response_tweet_id</th>\n",
       "      <th>in_response_to_tweet_id</th>\n",
       "    </tr>\n",
       "  </thead>\n",
       "  <tbody>\n",
       "    <tr>\n",
       "      <th>0</th>\n",
       "      <td>1</td>\n",
       "      <td>sprintcare</td>\n",
       "      <td>False</td>\n",
       "      <td>Tue Oct 31 22:10:47 +0000 2017</td>\n",
       "      <td>@115712 I understand. I would like to assist y...</td>\n",
       "      <td>2</td>\n",
       "      <td>3.0</td>\n",
       "    </tr>\n",
       "    <tr>\n",
       "      <th>1</th>\n",
       "      <td>2</td>\n",
       "      <td>115712</td>\n",
       "      <td>True</td>\n",
       "      <td>Tue Oct 31 22:11:45 +0000 2017</td>\n",
       "      <td>@sprintcare and how do you propose we do that</td>\n",
       "      <td>NaN</td>\n",
       "      <td>1.0</td>\n",
       "    </tr>\n",
       "    <tr>\n",
       "      <th>2</th>\n",
       "      <td>3</td>\n",
       "      <td>115712</td>\n",
       "      <td>True</td>\n",
       "      <td>Tue Oct 31 22:08:27 +0000 2017</td>\n",
       "      <td>@sprintcare I have sent several private messag...</td>\n",
       "      <td>1</td>\n",
       "      <td>4.0</td>\n",
       "    </tr>\n",
       "    <tr>\n",
       "      <th>3</th>\n",
       "      <td>4</td>\n",
       "      <td>sprintcare</td>\n",
       "      <td>False</td>\n",
       "      <td>Tue Oct 31 21:54:49 +0000 2017</td>\n",
       "      <td>@115712 Please send us a Private Message so th...</td>\n",
       "      <td>3</td>\n",
       "      <td>5.0</td>\n",
       "    </tr>\n",
       "    <tr>\n",
       "      <th>4</th>\n",
       "      <td>5</td>\n",
       "      <td>115712</td>\n",
       "      <td>True</td>\n",
       "      <td>Tue Oct 31 21:49:35 +0000 2017</td>\n",
       "      <td>@sprintcare I did.</td>\n",
       "      <td>4</td>\n",
       "      <td>6.0</td>\n",
       "    </tr>\n",
       "  </tbody>\n",
       "</table>\n",
       "</div>"
      ],
      "text/plain": [
       "   tweet_id   author_id  inbound                      created_at  \\\n",
       "0         1  sprintcare    False  Tue Oct 31 22:10:47 +0000 2017   \n",
       "1         2      115712     True  Tue Oct 31 22:11:45 +0000 2017   \n",
       "2         3      115712     True  Tue Oct 31 22:08:27 +0000 2017   \n",
       "3         4  sprintcare    False  Tue Oct 31 21:54:49 +0000 2017   \n",
       "4         5      115712     True  Tue Oct 31 21:49:35 +0000 2017   \n",
       "\n",
       "                                                text response_tweet_id  \\\n",
       "0  @115712 I understand. I would like to assist y...                 2   \n",
       "1      @sprintcare and how do you propose we do that               NaN   \n",
       "2  @sprintcare I have sent several private messag...                 1   \n",
       "3  @115712 Please send us a Private Message so th...                 3   \n",
       "4                                 @sprintcare I did.                 4   \n",
       "\n",
       "   in_response_to_tweet_id  \n",
       "0                      3.0  \n",
       "1                      1.0  \n",
       "2                      4.0  \n",
       "3                      5.0  \n",
       "4                      6.0  "
      ]
     },
     "metadata": {},
     "output_type": "display_data"
    },
    {
     "name": "stdout",
     "output_type": "stream",
     "text": [
      "\n",
      "\u001b[1m\u001b[34mShape: (2811774, 7)\u001b[0m\n",
      "\n",
      "\u001b[1m\u001b[34mColumns & Datatypes: \u001b[0m\n",
      "<class 'pandas.core.frame.DataFrame'>\n",
      "RangeIndex: 2811774 entries, 0 to 2811773\n",
      "Data columns (total 7 columns):\n",
      " #   Column                   Dtype  \n",
      "---  ------                   -----  \n",
      " 0   tweet_id                 int64  \n",
      " 1   author_id                object \n",
      " 2   inbound                  bool   \n",
      " 3   created_at               object \n",
      " 4   text                     object \n",
      " 5   response_tweet_id        object \n",
      " 6   in_response_to_tweet_id  float64\n",
      "dtypes: bool(1), float64(1), int64(1), object(4)\n",
      "memory usage: 131.4+ MB\n",
      "\n",
      "\u001b[1m\u001b[34mNull values:\u001b[0m\n",
      "tweet_id:0\n",
      "author_id:0\n",
      "inbound:0\n",
      "created_at:0\n",
      "text:0\n",
      "response_tweet_id:1040629\n",
      "in_response_to_tweet_id:794335\n",
      "\n",
      "\u001b[1m\u001b[34mUnique values (by Columns)\u001b[0m\n",
      "tweet_id:2811774\n",
      "author_id:702777\n",
      "inbound:2\n",
      "created_at:2061666\n",
      "text:2782618\n",
      "response_tweet_id:1771146\n",
      "in_response_to_tweet_id:1774823\n",
      "\n",
      "No duplicates present.\n"
     ]
    }
   ],
   "source": [
    "data_explore(df_all_twitter)"
   ]
  },
  {
   "cell_type": "code",
   "execution_count": 5,
   "metadata": {},
   "outputs": [],
   "source": [
    "df_amazon= df_all_twitter[df_all_twitter.author_id=='AmazonHelp']"
   ]
  },
  {
   "cell_type": "code",
   "execution_count": 8,
   "metadata": {},
   "outputs": [],
   "source": [
    "#df_apple= df_all_twitter[df_all_twitter.author_id=='AppleSupport']"
   ]
  },
  {
   "cell_type": "code",
   "execution_count": 10,
   "metadata": {},
   "outputs": [],
   "source": [
    "#time series, EDA how many post per month , how many tweet has been response "
   ]
  },
  {
   "cell_type": "code",
   "execution_count": null,
   "metadata": {},
   "outputs": [],
   "source": [
    "#vader , sentiment "
   ]
  },
  {
   "cell_type": "code",
   "execution_count": null,
   "metadata": {},
   "outputs": [],
   "source": [
    "#data_explore(df_apple)"
   ]
  },
  {
   "cell_type": "code",
   "execution_count": 6,
   "metadata": {},
   "outputs": [],
   "source": [
    "df_amazon_en = df_amazon.copy()\n",
    "#df_apple_en = df_apple.copy()"
   ]
  },
  {
   "cell_type": "code",
   "execution_count": 12,
   "metadata": {},
   "outputs": [],
   "source": [
    "df_amazon_en.reset_index(drop=True,inplace= True)\n",
    "#df_apple_en.reset_index(drop=True,inplace= True)"
   ]
  },
  {
   "cell_type": "code",
   "execution_count": 13,
   "metadata": {},
   "outputs": [
    {
     "data": {
      "text/html": [
       "<div>\n",
       "<style scoped>\n",
       "    .dataframe tbody tr th:only-of-type {\n",
       "        vertical-align: middle;\n",
       "    }\n",
       "\n",
       "    .dataframe tbody tr th {\n",
       "        vertical-align: top;\n",
       "    }\n",
       "\n",
       "    .dataframe thead th {\n",
       "        text-align: right;\n",
       "    }\n",
       "</style>\n",
       "<table border=\"1\" class=\"dataframe\">\n",
       "  <thead>\n",
       "    <tr style=\"text-align: right;\">\n",
       "      <th></th>\n",
       "      <th>tweet_id</th>\n",
       "      <th>author_id</th>\n",
       "      <th>inbound</th>\n",
       "      <th>created_at</th>\n",
       "      <th>text</th>\n",
       "      <th>response_tweet_id</th>\n",
       "      <th>in_response_to_tweet_id</th>\n",
       "    </tr>\n",
       "  </thead>\n",
       "  <tbody>\n",
       "    <tr>\n",
       "      <th>0</th>\n",
       "      <td>269</td>\n",
       "      <td>AmazonHelp</td>\n",
       "      <td>False</td>\n",
       "      <td>Wed Nov 22 09:23:01 +0000 2017</td>\n",
       "      <td>@115770 こんにちは、アマゾン公式です。Fire TV Stickが見れないというのは...</td>\n",
       "      <td>270,271</td>\n",
       "      <td>272.0</td>\n",
       "    </tr>\n",
       "    <tr>\n",
       "      <th>1</th>\n",
       "      <td>273</td>\n",
       "      <td>AmazonHelp</td>\n",
       "      <td>False</td>\n",
       "      <td>Wed Nov 22 09:40:27 +0000 2017</td>\n",
       "      <td>@115770 カスタマーサービスにてお問い合わせ済みとのことで、お手数をおかけいたしました...</td>\n",
       "      <td>274</td>\n",
       "      <td>271.0</td>\n",
       "    </tr>\n",
       "    <tr>\n",
       "      <th>2</th>\n",
       "      <td>275</td>\n",
       "      <td>AmazonHelp</td>\n",
       "      <td>False</td>\n",
       "      <td>Wed Nov 22 10:06:26 +0000 2017</td>\n",
       "      <td>@115770 恐れ入ります。至らない点も多々あるかとは存じますが、今後ともどうぞよろしくお...</td>\n",
       "      <td>NaN</td>\n",
       "      <td>274.0</td>\n",
       "    </tr>\n",
       "    <tr>\n",
       "      <th>3</th>\n",
       "      <td>324</td>\n",
       "      <td>AmazonHelp</td>\n",
       "      <td>False</td>\n",
       "      <td>Wed Nov 22 09:06:00 +0000 2017</td>\n",
       "      <td>@115792 ご不便をおかけしております。アプリをご利用でしょうか。強制停止&amp;gt;端末の...</td>\n",
       "      <td>NaN</td>\n",
       "      <td>325.0</td>\n",
       "    </tr>\n",
       "    <tr>\n",
       "      <th>4</th>\n",
       "      <td>615</td>\n",
       "      <td>AmazonHelp</td>\n",
       "      <td>False</td>\n",
       "      <td>Tue Oct 31 22:29:00 +0000 2017</td>\n",
       "      <td>@115820 I'm sorry we've let you down! Without ...</td>\n",
       "      <td>616</td>\n",
       "      <td>617.0</td>\n",
       "    </tr>\n",
       "  </tbody>\n",
       "</table>\n",
       "</div>"
      ],
      "text/plain": [
       "   tweet_id   author_id  inbound                      created_at  \\\n",
       "0       269  AmazonHelp    False  Wed Nov 22 09:23:01 +0000 2017   \n",
       "1       273  AmazonHelp    False  Wed Nov 22 09:40:27 +0000 2017   \n",
       "2       275  AmazonHelp    False  Wed Nov 22 10:06:26 +0000 2017   \n",
       "3       324  AmazonHelp    False  Wed Nov 22 09:06:00 +0000 2017   \n",
       "4       615  AmazonHelp    False  Tue Oct 31 22:29:00 +0000 2017   \n",
       "\n",
       "                                                text response_tweet_id  \\\n",
       "0  @115770 こんにちは、アマゾン公式です。Fire TV Stickが見れないというのは...           270,271   \n",
       "1  @115770 カスタマーサービスにてお問い合わせ済みとのことで、お手数をおかけいたしました...               274   \n",
       "2  @115770 恐れ入ります。至らない点も多々あるかとは存じますが、今後ともどうぞよろしくお...               NaN   \n",
       "3  @115792 ご不便をおかけしております。アプリをご利用でしょうか。強制停止&gt;端末の...               NaN   \n",
       "4  @115820 I'm sorry we've let you down! Without ...               616   \n",
       "\n",
       "   in_response_to_tweet_id  \n",
       "0                    272.0  \n",
       "1                    271.0  \n",
       "2                    274.0  \n",
       "3                    325.0  \n",
       "4                    617.0  "
      ]
     },
     "execution_count": 13,
     "metadata": {},
     "output_type": "execute_result"
    }
   ],
   "source": [
    "df_amazon_en.head()"
   ]
  },
  {
   "cell_type": "markdown",
   "metadata": {},
   "source": [
    "## Firstly filter out non english tweet in amazon "
   ]
  },
  {
   "cell_type": "markdown",
   "metadata": {},
   "source": [
    "realize that  Amazonhelp also support other langauges "
   ]
  },
  {
   "cell_type": "code",
   "execution_count": 7,
   "metadata": {},
   "outputs": [],
   "source": [
    "#I will need the request from the tweeter users to the AmazonHelp\n",
    "amazon_mixed = df_all_twitter.loc[(df_all_twitter.inbound==True)& (df_all_twitter.text.str.contains('@AmazonHelp'))]"
   ]
  },
  {
   "cell_type": "code",
   "execution_count": 8,
   "metadata": {},
   "outputs": [],
   "source": [
    "#reset the index of the new dateframe \n",
    "amazon_mixed=amazon_mixed.reset_index(drop=True)"
   ]
  },
  {
   "cell_type": "code",
   "execution_count": 9,
   "metadata": {},
   "outputs": [
    {
     "data": {
      "text/html": [
       "<div>\n",
       "<style scoped>\n",
       "    .dataframe tbody tr th:only-of-type {\n",
       "        vertical-align: middle;\n",
       "    }\n",
       "\n",
       "    .dataframe tbody tr th {\n",
       "        vertical-align: top;\n",
       "    }\n",
       "\n",
       "    .dataframe thead th {\n",
       "        text-align: right;\n",
       "    }\n",
       "</style>\n",
       "<table border=\"1\" class=\"dataframe\">\n",
       "  <thead>\n",
       "    <tr style=\"text-align: right;\">\n",
       "      <th></th>\n",
       "      <th>tweet_id</th>\n",
       "      <th>author_id</th>\n",
       "      <th>inbound</th>\n",
       "      <th>created_at</th>\n",
       "      <th>text</th>\n",
       "      <th>response_tweet_id</th>\n",
       "      <th>in_response_to_tweet_id</th>\n",
       "    </tr>\n",
       "  </thead>\n",
       "  <tbody>\n",
       "    <tr>\n",
       "      <th>0</th>\n",
       "      <td>270</td>\n",
       "      <td>115770</td>\n",
       "      <td>True</td>\n",
       "      <td>Wed Nov 22 09:24:30 +0000 2017</td>\n",
       "      <td>@AmazonHelp ありがとうございます。\\n今、電話で主人が対応していただいてます。</td>\n",
       "      <td>NaN</td>\n",
       "      <td>269.0</td>\n",
       "    </tr>\n",
       "    <tr>\n",
       "      <th>1</th>\n",
       "      <td>271</td>\n",
       "      <td>115770</td>\n",
       "      <td>True</td>\n",
       "      <td>Wed Nov 22 09:30:36 +0000 2017</td>\n",
       "      <td>@AmazonHelp 電話で対応してもらいましたが改良されませんでした。\\n保証期間も過ぎ...</td>\n",
       "      <td>273</td>\n",
       "      <td>269.0</td>\n",
       "    </tr>\n",
       "    <tr>\n",
       "      <th>2</th>\n",
       "      <td>274</td>\n",
       "      <td>115770</td>\n",
       "      <td>True</td>\n",
       "      <td>Wed Nov 22 09:44:04 +0000 2017</td>\n",
       "      <td>@AmazonHelp こちらこそありがとうございました。</td>\n",
       "      <td>275</td>\n",
       "      <td>273.0</td>\n",
       "    </tr>\n",
       "    <tr>\n",
       "      <th>3</th>\n",
       "      <td>616</td>\n",
       "      <td>115820</td>\n",
       "      <td>True</td>\n",
       "      <td>Tue Oct 31 23:22:08 +0000 2017</td>\n",
       "      <td>@AmazonHelp 3 different people have given 3 di...</td>\n",
       "      <td>618</td>\n",
       "      <td>615.0</td>\n",
       "    </tr>\n",
       "    <tr>\n",
       "      <th>4</th>\n",
       "      <td>619</td>\n",
       "      <td>115820</td>\n",
       "      <td>True</td>\n",
       "      <td>Tue Oct 31 23:32:26 +0000 2017</td>\n",
       "      <td>@AmazonHelp I frankly don't have the patience ...</td>\n",
       "      <td>NaN</td>\n",
       "      <td>618.0</td>\n",
       "    </tr>\n",
       "    <tr>\n",
       "      <th>5</th>\n",
       "      <td>623</td>\n",
       "      <td>115824</td>\n",
       "      <td>True</td>\n",
       "      <td>Tue Oct 31 22:32:07 +0000 2017</td>\n",
       "      <td>@AmazonHelp Okay, danke für die Info</td>\n",
       "      <td>625</td>\n",
       "      <td>622.0</td>\n",
       "    </tr>\n",
       "    <tr>\n",
       "      <th>6</th>\n",
       "      <td>627</td>\n",
       "      <td>115827</td>\n",
       "      <td>True</td>\n",
       "      <td>Wed Nov 01 12:50:18 +0000 2017</td>\n",
       "      <td>@AmazonHelp @115826 Yeah this is crazy we’re l...</td>\n",
       "      <td>629</td>\n",
       "      <td>626.0</td>\n",
       "    </tr>\n",
       "    <tr>\n",
       "      <th>7</th>\n",
       "      <td>634</td>\n",
       "      <td>115831</td>\n",
       "      <td>True</td>\n",
       "      <td>Tue Oct 31 21:39:58 +0000 2017</td>\n",
       "      <td>@115821 @AmazonHelp why is my order at my loca...</td>\n",
       "      <td>633</td>\n",
       "      <td>NaN</td>\n",
       "    </tr>\n",
       "    <tr>\n",
       "      <th>8</th>\n",
       "      <td>638</td>\n",
       "      <td>115834</td>\n",
       "      <td>True</td>\n",
       "      <td>Tue Oct 31 22:19:56 +0000 2017</td>\n",
       "      <td>@AmazonHelp Hi ready for some help</td>\n",
       "      <td>637</td>\n",
       "      <td>639.0</td>\n",
       "    </tr>\n",
       "    <tr>\n",
       "      <th>9</th>\n",
       "      <td>640</td>\n",
       "      <td>115834</td>\n",
       "      <td>True</td>\n",
       "      <td>Tue Oct 31 01:03:01 +0000 2017</td>\n",
       "      <td>@AmazonHelp Is the Echo Show no longer supported?</td>\n",
       "      <td>639</td>\n",
       "      <td>641.0</td>\n",
       "    </tr>\n",
       "  </tbody>\n",
       "</table>\n",
       "</div>"
      ],
      "text/plain": [
       "   tweet_id author_id  inbound                      created_at  \\\n",
       "0       270    115770     True  Wed Nov 22 09:24:30 +0000 2017   \n",
       "1       271    115770     True  Wed Nov 22 09:30:36 +0000 2017   \n",
       "2       274    115770     True  Wed Nov 22 09:44:04 +0000 2017   \n",
       "3       616    115820     True  Tue Oct 31 23:22:08 +0000 2017   \n",
       "4       619    115820     True  Tue Oct 31 23:32:26 +0000 2017   \n",
       "5       623    115824     True  Tue Oct 31 22:32:07 +0000 2017   \n",
       "6       627    115827     True  Wed Nov 01 12:50:18 +0000 2017   \n",
       "7       634    115831     True  Tue Oct 31 21:39:58 +0000 2017   \n",
       "8       638    115834     True  Tue Oct 31 22:19:56 +0000 2017   \n",
       "9       640    115834     True  Tue Oct 31 01:03:01 +0000 2017   \n",
       "\n",
       "                                                text response_tweet_id  \\\n",
       "0      @AmazonHelp ありがとうございます。\\n今、電話で主人が対応していただいてます。               NaN   \n",
       "1  @AmazonHelp 電話で対応してもらいましたが改良されませんでした。\\n保証期間も過ぎ...               273   \n",
       "2                      @AmazonHelp こちらこそありがとうございました。               275   \n",
       "3  @AmazonHelp 3 different people have given 3 di...               618   \n",
       "4  @AmazonHelp I frankly don't have the patience ...               NaN   \n",
       "5               @AmazonHelp Okay, danke für die Info               625   \n",
       "6  @AmazonHelp @115826 Yeah this is crazy we’re l...               629   \n",
       "7  @115821 @AmazonHelp why is my order at my loca...               633   \n",
       "8                 @AmazonHelp Hi ready for some help               637   \n",
       "9  @AmazonHelp Is the Echo Show no longer supported?               639   \n",
       "\n",
       "   in_response_to_tweet_id  \n",
       "0                    269.0  \n",
       "1                    269.0  \n",
       "2                    273.0  \n",
       "3                    615.0  \n",
       "4                    618.0  \n",
       "5                    622.0  \n",
       "6                    626.0  \n",
       "7                      NaN  \n",
       "8                    639.0  \n",
       "9                    641.0  "
      ]
     },
     "execution_count": 9,
     "metadata": {},
     "output_type": "execute_result"
    }
   ],
   "source": [
    "amazon_mixed.head(10)"
   ]
  },
  {
   "cell_type": "code",
   "execution_count": 10,
   "metadata": {},
   "outputs": [],
   "source": [
    "#define a function to filiter out non english tweet on Amazon\n",
    "#fliter non english \n",
    "\n",
    "#define a function to filiter out non english tweet on Amazon \n",
    "def non_eng(dframe):\n",
    "    y = 0\n",
    "    for _ in dframe['text']:\n",
    "        if re.search('[^\\x00-\\x7F]',dframe['text'][y]) == None:    # [^\\x00-\\x7F] is to filter non ascii \n",
    "            y = y+1\n",
    "        else:\n",
    "            dframe.drop(index = y, inplace = True)\n",
    "            y = y+1 \n",
    "            continue\n",
    "    dframe.reset_index(drop=True, inplace=True)"
   ]
  },
  {
   "cell_type": "code",
   "execution_count": 11,
   "metadata": {},
   "outputs": [],
   "source": [
    "#before apply the non_eng function, reassign the english only dateframe as amazon_en_request\n",
    "amazon_en_request = amazon_mixed.copy()"
   ]
  },
  {
   "cell_type": "code",
   "execution_count": 12,
   "metadata": {},
   "outputs": [
    {
     "data": {
      "text/plain": [
       "(134725, 7)"
      ]
     },
     "execution_count": 12,
     "metadata": {},
     "output_type": "execute_result"
    }
   ],
   "source": [
    "#check the shape before filtering out the non english tweets\n",
    "amazon_en_request.shape"
   ]
  },
  {
   "cell_type": "code",
   "execution_count": 14,
   "metadata": {},
   "outputs": [],
   "source": [
    "#apply the function to filter non eng tweet\n",
    "#non_eng(amazon_en_request)"
   ]
  },
  {
   "cell_type": "code",
   "execution_count": null,
   "metadata": {},
   "outputs": [],
   "source": [
    "#shape after filtering the non eng tweet\n",
    "amazon_en_request.shape"
   ]
  },
  {
   "cell_type": "code",
   "execution_count": null,
   "metadata": {},
   "outputs": [],
   "source": [
    "amazon_en_request.head()"
   ]
  },
  {
   "cell_type": "code",
   "execution_count": null,
   "metadata": {},
   "outputs": [],
   "source": [
    "#export to csv, avoid runing the non english function every time\n",
    "amazon_en_request.to_csv('./datasets/amazon_en.csv', index=False)"
   ]
  },
  {
   "cell_type": "code",
   "execution_count": null,
   "metadata": {},
   "outputs": [],
   "source": []
  },
  {
   "cell_type": "code",
   "execution_count": null,
   "metadata": {},
   "outputs": [],
   "source": []
  }
 ],
 "metadata": {
  "kernelspec": {
   "display_name": "Python 3",
   "language": "python",
   "name": "python3"
  },
  "language_info": {
   "codemirror_mode": {
    "name": "ipython",
    "version": 3
   },
   "file_extension": ".py",
   "mimetype": "text/x-python",
   "name": "python",
   "nbconvert_exporter": "python",
   "pygments_lexer": "ipython3",
   "version": "3.7.7"
  }
 },
 "nbformat": 4,
 "nbformat_minor": 4
}
